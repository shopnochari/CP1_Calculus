{
 "cells": [
  {
   "cell_type": "markdown",
   "id": "5f6cb863-aa6b-4696-ae4e-ea8cd3316f90",
   "metadata": {
    "tags": []
   },
   "source": [
    "# HW 9 experiment 2\n",
    "For this homework, I have collected the data of  accelertion in elevator using the phyphox app on iphone.  \n",
    "## Elivator cceleration Experiment (with g)\n",
    "First, Using the app I am going to take data for the acceleration. I let the app to take the data while the elovator was going down for 3 floors.  The data plot in the app looks like this :\n",
    "\n",
    "![image](elv.png)"
   ]
  },
  {
   "cell_type": "markdown",
   "id": "a5a49ade-4aef-4876-8ff1-3e14c3e1c59a",
   "metadata": {},
   "source": [
    "I will use pandas to import the data  and plot it ."
   ]
  },
  {
   "cell_type": "code",
   "execution_count": 57,
   "id": "6f32eb1a-5d89-44d1-a8ee-9da42e006b2d",
   "metadata": {},
   "outputs": [],
   "source": [
    "import math\n",
    "import numpy as np\n",
    "import matplotlib.pyplot as plt\n",
    "import pandas as pd"
   ]
  },
  {
   "cell_type": "code",
   "execution_count": 58,
   "id": "389419a2-4d5d-4e61-aff9-b244511cfc0b",
   "metadata": {},
   "outputs": [
    {
     "data": {
      "text/html": [
       "<div>\n",
       "<style scoped>\n",
       "    .dataframe tbody tr th:only-of-type {\n",
       "        vertical-align: middle;\n",
       "    }\n",
       "\n",
       "    .dataframe tbody tr th {\n",
       "        vertical-align: top;\n",
       "    }\n",
       "\n",
       "    .dataframe thead th {\n",
       "        text-align: right;\n",
       "    }\n",
       "</style>\n",
       "<table border=\"1\" class=\"dataframe\">\n",
       "  <thead>\n",
       "    <tr style=\"text-align: right;\">\n",
       "      <th></th>\n",
       "      <th>Time (s)</th>\n",
       "      <th>Acceleration (m/s²)</th>\n",
       "    </tr>\n",
       "  </thead>\n",
       "  <tbody>\n",
       "    <tr>\n",
       "      <th>0</th>\n",
       "      <td>0.059741</td>\n",
       "      <td>0.148168</td>\n",
       "    </tr>\n",
       "    <tr>\n",
       "      <th>1</th>\n",
       "      <td>0.099830</td>\n",
       "      <td>-0.136367</td>\n",
       "    </tr>\n",
       "    <tr>\n",
       "      <th>2</th>\n",
       "      <td>0.139919</td>\n",
       "      <td>-0.287438</td>\n",
       "    </tr>\n",
       "    <tr>\n",
       "      <th>3</th>\n",
       "      <td>0.180009</td>\n",
       "      <td>-0.580769</td>\n",
       "    </tr>\n",
       "    <tr>\n",
       "      <th>4</th>\n",
       "      <td>0.220098</td>\n",
       "      <td>-0.073907</td>\n",
       "    </tr>\n",
       "    <tr>\n",
       "      <th>...</th>\n",
       "      <td>...</td>\n",
       "      <td>...</td>\n",
       "    </tr>\n",
       "    <tr>\n",
       "      <th>473</th>\n",
       "      <td>19.021955</td>\n",
       "      <td>-0.090867</td>\n",
       "    </tr>\n",
       "    <tr>\n",
       "      <th>474</th>\n",
       "      <td>19.062044</td>\n",
       "      <td>-0.116944</td>\n",
       "    </tr>\n",
       "    <tr>\n",
       "      <th>475</th>\n",
       "      <td>19.102133</td>\n",
       "      <td>-0.150120</td>\n",
       "    </tr>\n",
       "    <tr>\n",
       "      <th>476</th>\n",
       "      <td>19.142222</td>\n",
       "      <td>-0.047123</td>\n",
       "    </tr>\n",
       "    <tr>\n",
       "      <th>477</th>\n",
       "      <td>19.182311</td>\n",
       "      <td>0.249958</td>\n",
       "    </tr>\n",
       "  </tbody>\n",
       "</table>\n",
       "<p>478 rows × 2 columns</p>\n",
       "</div>"
      ],
      "text/plain": [
       "      Time (s)  Acceleration (m/s²)\n",
       "0     0.059741             0.148168\n",
       "1     0.099830            -0.136367\n",
       "2     0.139919            -0.287438\n",
       "3     0.180009            -0.580769\n",
       "4     0.220098            -0.073907\n",
       "..         ...                  ...\n",
       "473  19.021955            -0.090867\n",
       "474  19.062044            -0.116944\n",
       "475  19.102133            -0.150120\n",
       "476  19.142222            -0.047123\n",
       "477  19.182311             0.249958\n",
       "\n",
       "[478 rows x 2 columns]"
      ]
     },
     "execution_count": 58,
     "metadata": {},
     "output_type": "execute_result"
    }
   ],
   "source": [
    "df = pd.read_csv('Acceleration.csv')\n",
    "df"
   ]
  },
  {
   "cell_type": "code",
   "execution_count": 59,
   "id": "8260f7ca-ecb8-46f2-8a06-a7dad1fd91a4",
   "metadata": {},
   "outputs": [],
   "source": [
    "X = df['Time (s)']\n",
    "Y = df['Acceleration (m/s²)']"
   ]
  },
  {
   "cell_type": "code",
   "execution_count": 63,
   "id": "e7d38b43-39a6-43db-8f1d-549fc0b00429",
   "metadata": {},
   "outputs": [
    {
     "data": {
      "text/plain": [
       "Text(0.5, 1.0, 'Acceleration in Elevetor')"
      ]
     },
     "execution_count": 63,
     "metadata": {},
     "output_type": "execute_result"
    },
    {
     "data": {
      "image/png": "[encoded data removed]",
      "text/plain": [
       "<Figure size 720x504 with 1 Axes>"
      ]
     },
     "metadata": {
      "needs_background": "light"
     },
     "output_type": "display_data"
    }
   ],
   "source": [
    "fig, ax = plt.subplots(figsize=(10,7))\n",
    "ax.plot(X,Y, lw=3)\n",
    "ax.set_xlabel('time(s)',fontsize=14)\n",
    "ax.set_ylabel('acceleration ',fontsize=14)\n",
    "ax.set_title('Acceleration in Elevetor', fontsize=14)"
   ]
  },
  {
   "cell_type": "markdown",
   "id": "129bd287-8e1a-4c6c-9e18-3d18ff6f8b9a",
   "metadata": {},
   "source": [
    "## Analysis\n",
    "I would like to calculate the velocity of the elevator . "
   ]
  },
  {
   "cell_type": "markdown",
   "id": "23a90c9f-1cf4-4b01-a607-6e9119d54b98",
   "metadata": {},
   "source": [
    "The Equation for finding velocity at time t is given by :\n",
    "\n",
    "$v(t) = v_0 + \\int_{t_0}^{t}a(t) dt  = \\int_{t_0}^{t}a(t) dt $ ,  here $ v_0$ = 0 , our initial velocity"
   ]
  },
  {
   "cell_type": "markdown",
   "id": "c6da9b8f-4265-42d1-812e-3daf003ed3d4",
   "metadata": {},
   "source": [
    "## velocity"
   ]
  },
  {
   "cell_type": "markdown",
   "id": "a939377b-1aea-4298-a510-5d24541e7d8b",
   "metadata": {},
   "source": [
    "My code  for calculating velocity  did not work , I have removed it  from here. "
   ]
  }
 ],
 "metadata": {
  "kernelspec": {
   "display_name": "Python 3 (ipykernel)",
   "language": "python",
   "name": "python3"
  },
  "language_info": {
   "codemirror_mode": {
    "name": "ipython",
    "version": 3
   },
   "file_extension": ".py",
   "mimetype": "text/x-python",
   "name": "python",
   "nbconvert_exporter": "python",
   "pygments_lexer": "ipython3",
   "version": "3.9.5"
  }
 },
 "nbformat": 4,
 "nbformat_minor": 5
}
