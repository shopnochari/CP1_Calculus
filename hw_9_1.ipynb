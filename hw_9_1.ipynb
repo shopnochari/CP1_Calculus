{
 "cells": [
  {
   "cell_type": "markdown",
   "id": "a784db8d-a9b7-4437-9f4c-f953c47784d4",
   "metadata": {},
   "source": [
    "# HW 9"
   ]
  },
  {
   "cell_type": "markdown",
   "id": "882562e7-9126-43b6-b44e-7c541e5b07d3",
   "metadata": {
    "tags": []
   },
   "source": [
    "For this homework, I have collected the data for linear ccelertion using the phyphox app on iphone.  \n",
    "## Linear acceleration Experiment (no g)\n",
    "First, Using the app I am going to take data for linear acceleration. I let the app to take the data while I was driving my car .  The data plot in the app looks like this :"
   ]
  },
  {
   "cell_type": "markdown",
   "id": "f630358a-b641-48c6-9d6f-3db5bae7f01e",
   "metadata": {},
   "source": [
    "![screenshot](sc1.jpeg)"
   ]
  },
  {
   "cell_type": "markdown",
   "id": "34470a95-e818-40aa-91da-14df0046232b",
   "metadata": {},
   "source": [
    " From the data ,I am only going to work withe the data for acceleration in X.  I am going to calculate the velocity and distance as a function of time. "
   ]
  },
  {
   "cell_type": "markdown",
   "id": "3796e54c-329d-4155-aa73-7811de06e3e3",
   "metadata": {},
   "source": [
    "## Imports "
   ]
  },
  {
   "cell_type": "markdown",
   "id": "0d7aa8b1-1238-4ce4-8bc9-e7c886133c32",
   "metadata": {},
   "source": [
    "We used Pandas for the plotting , other necessary imports are given below:"
   ]
  },
  {
   "cell_type": "code",
   "execution_count": 4,
   "id": "5c206489-122a-4e9c-a180-9d8e20cb1099",
   "metadata": {},
   "outputs": [],
   "source": [
    "import math\n",
    "import numpy as np\n",
    "import matplotlib.pyplot as plt\n",
    "import pandas as pd"
   ]
  },
  {
   "cell_type": "markdown",
   "id": "834785fe-f01d-494f-8ed2-34289deecf62",
   "metadata": {},
   "source": [
    "As I am going to work with the acceleration in X direction only. I will take only column 0 and 1. "
   ]
  },
  {
   "cell_type": "code",
   "execution_count": 5,
   "id": "5c205a7a-6444-4af3-be70-8b36ce9c5c6f",
   "metadata": {},
   "outputs": [
    {
     "data": {
      "text/html": [
       "<div>\n",
       "<style scoped>\n",
       "    .dataframe tbody tr th:only-of-type {\n",
       "        vertical-align: middle;\n",
       "    }\n",
       "\n",
       "    .dataframe tbody tr th {\n",
       "        vertical-align: top;\n",
       "    }\n",
       "\n",
       "    .dataframe thead th {\n",
       "        text-align: right;\n",
       "    }\n",
       "</style>\n",
       "<table border=\"1\" class=\"dataframe\">\n",
       "  <thead>\n",
       "    <tr style=\"text-align: right;\">\n",
       "      <th></th>\n",
       "      <th>Time (s)</th>\n",
       "      <th>Linear Acceleration x (m/s^2)</th>\n",
       "    </tr>\n",
       "  </thead>\n",
       "  <tbody>\n",
       "    <tr>\n",
       "      <th>0</th>\n",
       "      <td>0.015257</td>\n",
       "      <td>0.178308</td>\n",
       "    </tr>\n",
       "    <tr>\n",
       "      <th>1</th>\n",
       "      <td>0.025279</td>\n",
       "      <td>0.219403</td>\n",
       "    </tr>\n",
       "    <tr>\n",
       "      <th>2</th>\n",
       "      <td>0.035301</td>\n",
       "      <td>0.226437</td>\n",
       "    </tr>\n",
       "    <tr>\n",
       "      <th>3</th>\n",
       "      <td>0.045323</td>\n",
       "      <td>0.193696</td>\n",
       "    </tr>\n",
       "    <tr>\n",
       "      <th>4</th>\n",
       "      <td>0.055345</td>\n",
       "      <td>0.108944</td>\n",
       "    </tr>\n",
       "    <tr>\n",
       "      <th>...</th>\n",
       "      <td>...</td>\n",
       "      <td>...</td>\n",
       "    </tr>\n",
       "    <tr>\n",
       "      <th>3856</th>\n",
       "      <td>38.659718</td>\n",
       "      <td>0.015994</td>\n",
       "    </tr>\n",
       "    <tr>\n",
       "      <th>3857</th>\n",
       "      <td>38.669740</td>\n",
       "      <td>0.043137</td>\n",
       "    </tr>\n",
       "    <tr>\n",
       "      <th>3858</th>\n",
       "      <td>38.679762</td>\n",
       "      <td>0.498174</td>\n",
       "    </tr>\n",
       "    <tr>\n",
       "      <th>3859</th>\n",
       "      <td>38.689783</td>\n",
       "      <td>0.054532</td>\n",
       "    </tr>\n",
       "    <tr>\n",
       "      <th>3860</th>\n",
       "      <td>38.699805</td>\n",
       "      <td>-0.064016</td>\n",
       "    </tr>\n",
       "  </tbody>\n",
       "</table>\n",
       "<p>3861 rows × 2 columns</p>\n",
       "</div>"
      ],
      "text/plain": [
       "       Time (s)  Linear Acceleration x (m/s^2)\n",
       "0      0.015257                       0.178308\n",
       "1      0.025279                       0.219403\n",
       "2      0.035301                       0.226437\n",
       "3      0.045323                       0.193696\n",
       "4      0.055345                       0.108944\n",
       "...         ...                            ...\n",
       "3856  38.659718                       0.015994\n",
       "3857  38.669740                       0.043137\n",
       "3858  38.679762                       0.498174\n",
       "3859  38.689783                       0.054532\n",
       "3860  38.699805                      -0.064016\n",
       "\n",
       "[3861 rows x 2 columns]"
      ]
     },
     "execution_count": 5,
     "metadata": {},
     "output_type": "execute_result"
    }
   ],
   "source": [
    "df = pd.read_csv('acc_Raw_Data.csv',usecols = ([0,1]))\n",
    "df"
   ]
  },
  {
   "cell_type": "code",
   "execution_count": 7,
   "id": "e96bf317-4bc0-4f8e-9b64-86a1569b18d9",
   "metadata": {},
   "outputs": [],
   "source": [
    "X = df['Time (s)']\n",
    "Y = df['Linear Acceleration x (m/s^2)']"
   ]
  },
  {
   "cell_type": "markdown",
   "id": "462d4ec1-cf1c-4f70-9c46-e75fce44336e",
   "metadata": {},
   "source": [
    "The plot of the data in my jupyter notebook : "
   ]
  },
  {
   "cell_type": "code",
   "execution_count": 8,
   "id": "8ab46de6-ffbf-4906-9500-ae79565f72d0",
   "metadata": {},
   "outputs": [
    {
     "data": {
      "text/plain": [
       "Text(0.5, 1.0, 'Accelration data with phyphox')"
      ]
     },
     "execution_count": 8,
     "metadata": {},
     "output_type": "execute_result"
    },
    {
     "data": {
      "image/png": "[encoded data removed]",
      "text/plain": [
       "<Figure size 720x504 with 1 Axes>"
      ]
     },
     "metadata": {
      "needs_background": "light"
     },
     "output_type": "display_data"
    }
   ],
   "source": [
    "fig, ax = plt.subplots(figsize=(10,7))\n",
    "ax.plot(X,Y, lw=3)\n",
    "ax.set_xlabel('time(s)',fontsize=14)\n",
    "ax.set_ylabel('acceleration ',fontsize=14)\n",
    "ax.set_title('Accelration data with phyphox',fontsize=14)"
   ]
  },
  {
   "cell_type": "markdown",
   "id": "cc7e5054-f76c-40e3-b69c-7928cae7e9ee",
   "metadata": {},
   "source": [
    "So far, Its just the same as the picture above .  I have slowed down and stopped few times that why there are negetive and zero values are there."
   ]
  },
  {
   "cell_type": "markdown",
   "id": "05babc28-cb6b-4904-865d-76d50b506ee6",
   "metadata": {},
   "source": [
    "## Data analysis\n",
    " I am going to take the fourier transfer of the acceleration . "
   ]
  },
  {
   "cell_type": "markdown",
   "id": "49bfa851-0513-4ae0-a4cf-37b58465399b",
   "metadata": {},
   "source": [
    "## Utility function"
   ]
  },
  {
   "cell_type": "code",
   "execution_count": 9,
   "id": "6793aa26-3d5b-4b9a-b7f0-5906d190099f",
   "metadata": {},
   "outputs": [],
   "source": [
    "import scipy.integrate as itg"
   ]
  },
  {
   "cell_type": "markdown",
   "id": "b39f23d4-4160-46ea-aac7-2dc56e4ba60f",
   "metadata": {},
   "source": [
    "## Calculating velocity\n"
   ]
  },
  {
   "cell_type": "markdown",
   "id": "1f4d49da-2bac-48de-bcf4-6f898c674171",
   "metadata": {},
   "source": [
    "We know the formula : for a given initial velocity, at if the acceleration at time t  is a than the velocity at time t will be : \\\n",
    "$ 𝑣(𝑡)=𝑣_0+∫𝑎(𝑡)d𝑡 $"
   ]
  },
  {
   "cell_type": "markdown",
   "id": "b67e3897-7ff0-4a90-afb0-922f0c402657",
   "metadata": {},
   "source": [
    "In this case I started with $v_0 $ = 0 "
   ]
  },
  {
   "cell_type": "code",
   "execution_count": 2,
   "id": "a3bdc983-c7da-4a2d-b547-61618c999f13",
   "metadata": {},
   "outputs": [],
   "source": []
  }
 ],
 "metadata": {
  "kernelspec": {
   "display_name": "Python 3 (ipykernel)",
   "language": "python",
   "name": "python3"
  },
  "language_info": {
   "codemirror_mode": {
    "name": "ipython",
    "version": 3
   },
   "file_extension": ".py",
   "mimetype": "text/x-python",
   "name": "python",
   "nbconvert_exporter": "python",
   "pygments_lexer": "ipython3",
   "version": "3.9.5"
  }
 },
 "nbformat": 4,
 "nbformat_minor": 5
}
